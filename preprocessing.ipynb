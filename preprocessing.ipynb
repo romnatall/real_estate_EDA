{
 "cells": [
  {
   "cell_type": "code",
   "execution_count": 1,
   "metadata": {},
   "outputs": [],
   "source": [
    "import pandas as pd \n",
    "import dataparser \n",
    "from  math import log\n",
    "import numpy as np\n",
    "import pickle\n",
    "import pandas as pd\n",
    "import seaborn as sns\n",
    "import matplotlib.pyplot as plt\n",
    "import re\n",
    "\n",
    "\n",
    "import folium\n",
    "\n",
    "pd.set_option('display.max_columns', None)\n",
    "data=pd.read_csv('_data.csv', index_col=1)\n",
    "\n",
    "#если цена не в рублях то выбрасываем, цены на доллар и евро сильно меняются, непонятно какая цена в рублях (там всего 27 вариантов)\n",
    "data=data[data['Цена'].str.contains('руб.')].reset_index()\n",
    "\n",
    "#убираем всех не из Москвы\n",
    "data=data[data['Адрес'].str.contains('Москва')].reset_index()\n",
    "\n",
    "#заполняем пустые места для количества комнат, так как это студии, 1 комната\n",
    "#фича \"Тип\" у всех одинаковая, дропаем\n",
    "data=data.fillna({'Количество комнат':1})\\\n",
    "        .drop('Тип',axis=1)\n",
    "\n",
    "\n"
   ]
  },
  {
   "cell_type": "code",
   "execution_count": 2,
   "metadata": {},
   "outputs": [
    {
     "name": "stderr",
     "output_type": "stream",
     "text": [
      "/home/ham/elb/d035/real_estate_EDA/dataparser.py:306: FutureWarning: Downcasting behavior in `replace` is deprecated and will be removed in a future version. To retain the old behavior, explicitly call `result.infer_objects(copy=False)`. To opt-in to the future behavior, set `pd.set_option('future.no_silent_downcasting', True)`\n",
      "  cdata['garbage_chute'] = data['Мусоропровод'].replace({'Да': 1, 'Нет': 0, np.nan: 0}).astype(int)\n"
     ]
    }
   ],
   "source": [
    "cdata=dataparser.get_data(data)"
   ]
  },
  {
   "cell_type": "code",
   "execution_count": 157,
   "metadata": {},
   "outputs": [],
   "source": [
    "#для получения координат по адресам\n",
    "\n",
    "from geopy.geocoders import Nominatim\n",
    "addarr=cdata['adress']\n",
    "addrdic={}\n",
    "\n",
    "def get_metro_station_coordinates(station_name):\n",
    "    geolocator = Nominatim(user_agent=\"metro_locator\")  \n",
    "\n",
    "    # Добавим \"метро\" к запросу для более точного результата\n",
    "    location = geolocator.geocode(f\"{station_name} , Москва\")\n",
    "\n",
    "    if location:\n",
    "        coordinates = (location.latitude, location.longitude)\n",
    "        return coordinates\n",
    "    else:\n",
    "        print(f\"Координаты для станции метро {station_name} не найдены.\")\n",
    "        return None\n",
    "\n",
    "\n",
    "\n",
    "for i in addarr:\n",
    "    try:\n",
    "        if i in addrdic.keys():\n",
    "            continue\n",
    "        addrdic[i] = get_metro_station_coordinates(i)\n",
    "    except:\n",
    "        pass\n",
    "\n",
    "with open('coordinates', 'wb') as file:\n",
    "    pickle.dump(addrdic, file)\n"
   ]
  }
 ],
 "metadata": {
  "kernelspec": {
   "display_name": "elb",
   "language": "python",
   "name": "python3"
  },
  "language_info": {
   "codemirror_mode": {
    "name": "ipython",
    "version": 3
   },
   "file_extension": ".py",
   "mimetype": "text/x-python",
   "name": "python",
   "nbconvert_exporter": "python",
   "pygments_lexer": "ipython3",
   "version": "3.12.1"
  }
 },
 "nbformat": 4,
 "nbformat_minor": 2
}
