{
 "cells": [
  {
   "cell_type": "code",
   "execution_count": 3,
   "metadata": {},
   "outputs": [],
   "source": [
    "import pandas as pd \n",
    "import dataparser \n",
    "import numpy as np\n",
    "\n",
    "pd.set_option('display.max_columns', None)\n",
    "data=pd.read_csv('_data.csv', index_col=1)\n",
    "\n",
    "#если цена не в рублях то выбрасываем, цены на доллар и евро сильно меняются, непонятно какая цена в рублях (там всего 27 вариантов)\n",
    "data=data[data['Цена'].str.contains('руб.')].reset_index()\n",
    "\n",
    "#убираем всех не из Москвы\n",
    "data=data[data['Адрес'].str.contains('Москва')].reset_index()\n",
    "\n",
    "#заполняем пустые места для количества комнат, так как это студии, 1 комната\n",
    "#фича \"Тип\" у всех одинаковая, дропаем\n",
    "data=data.fillna({'Количество комнат':1})\\\n",
    "        .drop('Тип',axis=1)"
   ]
  },
  {
   "cell_type": "code",
   "execution_count": null,
   "metadata": {},
   "outputs": [],
   "source": [
    "def get_col_room(data):\n",
    "    return data['Количество комнат'].astype(str).apply(lambda x: int(x[0]))\n",
    "\n",
    "def get_price(data):\n",
    "    return data['Цена'].astype(str).apply(lambda x: float(dataparser.splbac(x,'руб./')[0]))\n",
    "\n",
    "def get_area_lamb(s):\n",
    "    if '/'in s:\n",
    "        return float(dataparser.splbac(s,'/')[0])\n",
    "    else:\n",
    "        return float(s)\n",
    "\n",
    "def get_area(data):\n",
    "    return data['Площадь, м2'].astype(str).apply(get_area_lamb)\n",
    "\n",
    "def get_metro(data):\n",
    "    return data['Метро'].astype(str).apply(lambda x: dataparser.splfb(x,))\n",
    "\n",
    "def get_ceiling_height(data):\n",
    "    return data['Высота потолков, м'].astype(str).apply(lambda x: float(x.split()[0]))\n",
    "\n",
    "cdata=pd.DataFrame()\n",
    "cdata['col_rooms']=get_col_room(data)\n",
    "cdata['price']=get_price(data)\n",
    "cdata['full_area']=get_area(data)\n",
    "cdata['ceiling_height']=get_ceiling_height(data)\n",
    "cdata\n"
   ]
  }
 ],
 "metadata": {
  "kernelspec": {
   "display_name": "elb",
   "language": "python",
   "name": "python3"
  },
  "language_info": {
   "codemirror_mode": {
    "name": "ipython",
    "version": 3
   },
   "file_extension": ".py",
   "mimetype": "text/x-python",
   "name": "python",
   "nbconvert_exporter": "python",
   "pygments_lexer": "ipython3",
   "version": "3.12.1"
  }
 },
 "nbformat": 4,
 "nbformat_minor": 2
}
